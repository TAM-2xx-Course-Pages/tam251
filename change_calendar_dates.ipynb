{
 "cells": [
  {
   "cell_type": "code",
   "execution_count": 25,
   "metadata": {},
   "outputs": [],
   "source": [
    "import datetime as dt"
   ]
  },
  {
   "cell_type": "code",
   "execution_count": 26,
   "metadata": {},
   "outputs": [],
   "source": [
    "dates_to_replace = []\n",
    "\n",
    "start = dt.datetime(day=15, month=1, year=2024)\n",
    "\n",
    "temp = start\n",
    "\n",
    "while temp < dt.datetime(day=5, month=5, year=2024):\n",
    "    for i in range(3):\n",
    "        dates_to_replace += [(temp+dt.timedelta(days=i*2)).strftime(\"%b %-d\")]\n",
    "    \n",
    "    temp += dt.timedelta(days=7)"
   ]
  },
  {
   "cell_type": "code",
   "execution_count": 27,
   "metadata": {},
   "outputs": [],
   "source": [
    "dates_to_replace_with = []\n",
    "\n",
    "start = dt.datetime(day=20, month=1, year=2024)\n",
    "\n",
    "temp = start\n",
    "\n",
    "while temp < dt.datetime(day=10, month=5, year=2024):\n",
    "    for i in range(3):\n",
    "        dates_to_replace_with += [(temp+dt.timedelta(days=i*2)).strftime(\"%b %-d\")]\n",
    "    \n",
    "    temp += dt.timedelta(days=7)"
   ]
  },
  {
   "cell_type": "code",
   "execution_count": 28,
   "metadata": {},
   "outputs": [],
   "source": [
    "with open('./src/pages/schedule.astro', 'r') as f:\n",
    "    data = f.read()\n",
    "\n",
    "for i in range(len(dates_to_replace)):\n",
    "    data = dates_to_replace_with[i].join(data.rsplit(dates_to_replace[i], 1))\n",
    "\n",
    "with open('./src/pages/schedule.astro', 'w') as f:\n",
    "    f.write(data)"
   ]
  },
  {
   "cell_type": "code",
   "execution_count": 24,
   "metadata": {},
   "outputs": [
    {
     "data": {
      "text/plain": [
       "['Jan 15',\n",
       " 'Jan 17',\n",
       " 'Jan 19',\n",
       " 'Jan 22',\n",
       " 'Jan 24',\n",
       " 'Jan 26',\n",
       " 'Jan 29',\n",
       " 'Jan 31',\n",
       " 'Feb 2',\n",
       " 'Feb 5',\n",
       " 'Feb 7',\n",
       " 'Feb 9',\n",
       " 'Feb 12',\n",
       " 'Feb 14',\n",
       " 'Feb 16',\n",
       " 'Feb 19',\n",
       " 'Feb 21',\n",
       " 'Feb 23',\n",
       " 'Feb 26',\n",
       " 'Feb 28',\n",
       " 'Mar 1',\n",
       " 'Mar 4',\n",
       " 'Mar 6',\n",
       " 'Mar 8',\n",
       " 'Mar 11',\n",
       " 'Mar 13',\n",
       " 'Mar 15',\n",
       " 'Mar 18',\n",
       " 'Mar 20',\n",
       " 'Mar 22',\n",
       " 'Mar 25',\n",
       " 'Mar 27',\n",
       " 'Mar 29',\n",
       " 'Apr 1',\n",
       " 'Apr 3',\n",
       " 'Apr 5',\n",
       " 'Apr 8',\n",
       " 'Apr 10',\n",
       " 'Apr 12',\n",
       " 'Apr 15',\n",
       " 'Apr 17',\n",
       " 'Apr 19',\n",
       " 'Apr 22',\n",
       " 'Apr 24',\n",
       " 'Apr 26',\n",
       " 'Apr 29',\n",
       " 'May 1',\n",
       " 'May 3']"
      ]
     },
     "execution_count": 24,
     "metadata": {},
     "output_type": "execute_result"
    }
   ],
   "source": [
    "dates_to_replace"
   ]
  },
  {
   "cell_type": "code",
   "execution_count": null,
   "metadata": {},
   "outputs": [],
   "source": []
  }
 ],
 "metadata": {
  "kernelspec": {
   "display_name": "usr",
   "language": "python",
   "name": "python3"
  },
  "language_info": {
   "codemirror_mode": {
    "name": "ipython",
    "version": 3
   },
   "file_extension": ".py",
   "mimetype": "text/x-python",
   "name": "python",
   "nbconvert_exporter": "python",
   "pygments_lexer": "ipython3",
   "version": "3.11.9"
  }
 },
 "nbformat": 4,
 "nbformat_minor": 2
}
